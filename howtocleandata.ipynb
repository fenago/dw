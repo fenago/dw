{
  "cells": [
    {
      "cell_type": "markdown",
      "metadata": {
        "id": "fliy--JUcNvd"
      },
      "source": [
        "How to clean the data"
      ]
    },
    {
      "cell_type": "code",
      "execution_count": null,
      "metadata": {
        "id": "4TFPaM-vcNvf"
      },
      "outputs": [],
      "source": [
        "import pandas as pd"
      ]
    },
    {
      "cell_type": "markdown",
      "metadata": {
        "id": "e4u-URjlcNvh"
      },
      "source": [
        "## What the info() method can tell you"
      ]
    },
    {
      "cell_type": "code",
      "execution_count": null,
      "metadata": {
        "id": "4VPRv9shcNvh"
      },
      "outputs": [],
      "source": [
        "polls = pd.read_csv('https://github.com/fenago/dw/raw/main/data/president_polls_2016.csv')"
      ]
    },
    {
      "cell_type": "code",
      "execution_count": null,
      "metadata": {
        "id": "pZbHyINVcNvi"
      },
      "outputs": [],
      "source": [
        "polls.info(verbose=True, memory_usage='deep', show_counts=True)"
      ]
    },
    {
      "cell_type": "code",
      "execution_count": null,
      "metadata": {
        "id": "m47KlZ4YcNvj"
      },
      "outputs": [],
      "source": [
        "# NOTE: This may take a long time to run\n",
        "jobs = pd.read_excel('../../data/oesm18all/all_data_M_2018.xlsx')"
      ]
    },
    {
      "cell_type": "code",
      "execution_count": null,
      "metadata": {
        "id": "6OIgG7B_cNvk"
      },
      "outputs": [],
      "source": [
        "jobs.info(verbose=True, memory_usage='deep', show_counts=True)"
      ]
    },
    {
      "cell_type": "markdown",
      "metadata": {
        "id": "ZtbCuwoUcNvl"
      },
      "source": [
        "## What the unique values can tell you"
      ]
    },
    {
      "cell_type": "code",
      "execution_count": null,
      "metadata": {
        "id": "YuQohz3TcNvl"
      },
      "outputs": [],
      "source": [
        "polls.nunique()"
      ]
    },
    {
      "cell_type": "code",
      "execution_count": null,
      "metadata": {
        "id": "ZU45LW7vcNvm"
      },
      "outputs": [],
      "source": [
        "polls.apply(pd.unique)"
      ]
    },
    {
      "cell_type": "markdown",
      "metadata": {
        "id": "tCzXqOX8cNvn"
      },
      "source": [
        "## What the value counts can tell you"
      ]
    },
    {
      "cell_type": "code",
      "execution_count": null,
      "metadata": {
        "id": "FPHgG182cNvn"
      },
      "outputs": [],
      "source": [
        "polls.state.value_counts().head(4)"
      ]
    },
    {
      "cell_type": "code",
      "execution_count": null,
      "metadata": {
        "id": "jEpd6txucNvo"
      },
      "outputs": [],
      "source": [
        "polls.state.value_counts(normalize=True).head(4)"
      ]
    },
    {
      "cell_type": "code",
      "execution_count": null,
      "metadata": {
        "id": "SXLFriLqcNvo"
      },
      "outputs": [],
      "source": [
        "polls.multiversions.value_counts(dropna=False)"
      ]
    },
    {
      "cell_type": "code",
      "execution_count": null,
      "metadata": {
        "id": "_Na-1ZVjcNvp"
      },
      "outputs": [],
      "source": [
        "polls[['state','grade']].value_counts()"
      ]
    },
    {
      "cell_type": "markdown",
      "metadata": {
        "id": "kEGPeXSVcNvp"
      },
      "source": [
        "## How to drop rows"
      ]
    },
    {
      "cell_type": "code",
      "execution_count": null,
      "metadata": {
        "id": "teesxajacNvq"
      },
      "outputs": [],
      "source": [
        "#polls = polls[polls.type == 'now-cast']"
      ]
    },
    {
      "cell_type": "code",
      "execution_count": null,
      "metadata": {
        "id": "gZ9LNnfocNvq"
      },
      "outputs": [],
      "source": [
        "polls = polls.query('type == \"now-cast\"')"
      ]
    },
    {
      "cell_type": "code",
      "execution_count": null,
      "metadata": {
        "id": "6JfVJvSIcNvq"
      },
      "outputs": [],
      "source": [
        "import sqlite3\n",
        "fires_con = sqlite3.connect('../../data/Data/FPA_FOD_20170508.sqlite')\n",
        "fires = pd.read_sql_query(\n",
        "    '''SELECT STATE, FIRE_YEAR, DATETIME(DISCOVERY_DATE) AS DISCOVERY_DATE,\n",
        "              FIRE_NAME, FIRE_SIZE, LATITUDE, LONGITUDE\n",
        "       FROM Fires''', fires_con)\n",
        "fires.columns = fires.columns.str.lower()"
      ]
    },
    {
      "cell_type": "code",
      "execution_count": null,
      "metadata": {
        "id": "7UHutQBBcNvr"
      },
      "outputs": [],
      "source": [
        "fires[fires.duplicated(keep=False)]"
      ]
    },
    {
      "cell_type": "code",
      "execution_count": null,
      "metadata": {
        "id": "cPZPVJsYcNvs"
      },
      "outputs": [],
      "source": [
        "fires.drop_duplicates(keep='first', inplace=True)"
      ]
    },
    {
      "cell_type": "markdown",
      "metadata": {
        "id": "bgYw5JoNcNvs"
      },
      "source": [
        "## How to drop columns"
      ]
    },
    {
      "cell_type": "code",
      "execution_count": null,
      "metadata": {
        "id": "MDlF-jC5cNvs"
      },
      "outputs": [],
      "source": [
        "polls.nunique()"
      ]
    },
    {
      "cell_type": "code",
      "execution_count": null,
      "metadata": {
        "id": "u2Dae5ebcNvt"
      },
      "outputs": [],
      "source": [
        "#polls = polls.drop(columns=['cycle','forecastdate'])"
      ]
    },
    {
      "cell_type": "code",
      "execution_count": null,
      "metadata": {
        "id": "J9v4lA2kcNvt"
      },
      "outputs": [],
      "source": [
        "polls.drop(columns=['cycle','forecastdate'], errors='raise', inplace=True)"
      ]
    },
    {
      "cell_type": "markdown",
      "metadata": {
        "id": "QVXBziUScNvt"
      },
      "source": [
        "## How to rename columns"
      ]
    },
    {
      "cell_type": "code",
      "execution_count": null,
      "metadata": {
        "id": "sEauEgKncNvt"
      },
      "outputs": [],
      "source": [
        "polls = polls.rename(columns={\n",
        "    'rawpoll_clinton':'clinton_pct',\n",
        "    'rawpoll_trump':'trump_pct'})"
      ]
    },
    {
      "cell_type": "code",
      "execution_count": null,
      "metadata": {
        "id": "2yhSb-bkcNvu"
      },
      "outputs": [],
      "source": [
        "polls_names_dict = {'rawpoll_clinton':'clinton_pct',\n",
        "                    'rawpoll_trump':'trump_pct'}\n",
        "polls.rename(columns = polls_names_dict, inplace = True)"
      ]
    },
    {
      "cell_type": "code",
      "execution_count": null,
      "metadata": {
        "id": "eR_0_tYgcNvu"
      },
      "outputs": [],
      "source": [
        "polls.columns = polls.columns.str.replace('_pct','')"
      ]
    },
    {
      "cell_type": "code",
      "execution_count": null,
      "metadata": {
        "id": "HyDyiaVtcNvu"
      },
      "outputs": [],
      "source": [
        "jobs.columns = jobs.columns \\\n",
        "    .str.replace('^a_','annual_') \\\n",
        "    .str.replace('^h_','hourly_') \\\n",
        "    .str.replace('_pct','_percent')"
      ]
    },
    {
      "cell_type": "markdown",
      "metadata": {
        "id": "hocbB0w5cNvv"
      },
      "source": [
        "## How to find missing values"
      ]
    },
    {
      "cell_type": "code",
      "execution_count": null,
      "metadata": {
        "id": "ixE5qEnNcNvv"
      },
      "outputs": [],
      "source": [
        "mortality_data = pd.read_csv('https://github.com/fenago/dw/raw/main/mortality_missing_values.csv')"
      ]
    },
    {
      "cell_type": "code",
      "execution_count": null,
      "metadata": {
        "id": "eY9hFeMDcNvv"
      },
      "outputs": [],
      "source": [
        "mortality_data.head(5)"
      ]
    },
    {
      "cell_type": "code",
      "execution_count": null,
      "metadata": {
        "id": "NiQ3-8wAcNvw"
      },
      "outputs": [],
      "source": [
        "mortality_data.loc[5:9]"
      ]
    },
    {
      "cell_type": "code",
      "execution_count": null,
      "metadata": {
        "id": "ustADiVucNvw"
      },
      "outputs": [],
      "source": [
        "missing_count = mortality_data.shape[0] - mortality_data.count()\n",
        "print(missing_count)"
      ]
    },
    {
      "cell_type": "code",
      "execution_count": null,
      "metadata": {
        "id": "2wSNBxThcNvw"
      },
      "outputs": [],
      "source": [
        "mortality_data[mortality_data.isnull().any(axis=1)]"
      ]
    },
    {
      "cell_type": "code",
      "execution_count": null,
      "metadata": {
        "id": "Kovdow2RcNvw"
      },
      "outputs": [],
      "source": [
        "mortality_data[mortality_data.DeathRate.isnull()]"
      ]
    },
    {
      "cell_type": "code",
      "execution_count": null,
      "metadata": {
        "id": "H558ZUUUcNvx"
      },
      "outputs": [],
      "source": [
        "mortality_data[mortality_data.DeathRate.notnull()]"
      ]
    },
    {
      "cell_type": "markdown",
      "metadata": {
        "id": "vHoh49R9cNvx"
      },
      "source": [
        "## How to drop rows with missing values"
      ]
    },
    {
      "cell_type": "code",
      "execution_count": null,
      "metadata": {
        "id": "It6mX-JrcNwA"
      },
      "outputs": [],
      "source": [
        "mortality_data = mortality_data.dropna()\n",
        "mortality_data.head()"
      ]
    },
    {
      "cell_type": "code",
      "execution_count": null,
      "metadata": {
        "id": "edGKtrOccNwA"
      },
      "outputs": [],
      "source": [
        "mortality_data.dropna(thresh=2, inplace=True)"
      ]
    },
    {
      "cell_type": "code",
      "execution_count": null,
      "metadata": {
        "id": "64LaxarpcNwB"
      },
      "outputs": [],
      "source": [
        "mortality_data.dropna(subset=['DeathRate'], inplace=True)"
      ]
    },
    {
      "cell_type": "markdown",
      "metadata": {
        "id": "RUwMn80FcNwB"
      },
      "source": [
        "## How to fill missing values"
      ]
    },
    {
      "cell_type": "code",
      "execution_count": null,
      "metadata": {
        "id": "9GRIOhOkcNwB"
      },
      "outputs": [],
      "source": [
        "mortality_data = pd.read_csv('mortality_missing_values.csv')\n",
        "mortality_data.head()"
      ]
    },
    {
      "cell_type": "code",
      "execution_count": null,
      "metadata": {
        "id": "it1K2M1gcNwC"
      },
      "outputs": [],
      "source": [
        "mortality_data.DeathRate.fillna(value=mortality_data.DeathRate.mean(), inplace=True)\n",
        "mortality_data.head(4)"
      ]
    },
    {
      "cell_type": "code",
      "execution_count": null,
      "metadata": {
        "id": "8YuUIWZvcNwC"
      },
      "outputs": [],
      "source": [
        "mortality_data = pd.read_csv('mortality_missing_values.csv')\n",
        "mortality_data.fillna(method = 'ffill', limit=2, inplace=True)\n",
        "mortality_data.head(4)"
      ]
    },
    {
      "cell_type": "code",
      "execution_count": null,
      "metadata": {
        "id": "R4srC2z7cNwD"
      },
      "outputs": [],
      "source": [
        "mortality_data = pd.read_csv('mortality_missing_values.csv')\n",
        "mortality_data = mortality_data.interpolate()\n",
        "mortality_data.head(4)"
      ]
    },
    {
      "cell_type": "markdown",
      "metadata": {
        "id": "QVwPkuwGcNwD"
      },
      "source": [
        "## How to find date and number columns that are imported as objects"
      ]
    },
    {
      "cell_type": "code",
      "execution_count": null,
      "metadata": {
        "id": "4nGFQmqrcNwD"
      },
      "outputs": [],
      "source": [
        "polls.select_dtypes('object').head(2)"
      ]
    },
    {
      "cell_type": "code",
      "execution_count": null,
      "metadata": {
        "id": "vP3ebuIOcNwE"
      },
      "outputs": [],
      "source": [
        "jobs.select_dtypes('object').head(2)"
      ]
    },
    {
      "cell_type": "markdown",
      "metadata": {
        "id": "KQI2PQzccNwE"
      },
      "source": [
        "## How to convert date and time strings to the datetime data type"
      ]
    },
    {
      "cell_type": "code",
      "execution_count": null,
      "metadata": {
        "id": "IlNgJhMkcNwF"
      },
      "outputs": [],
      "source": [
        "date_cols = ['startdate','enddate','createddate','timestamp']\n",
        "polls[date_cols].head(2)"
      ]
    },
    {
      "cell_type": "code",
      "execution_count": null,
      "metadata": {
        "id": "03wFhD2kcNwF"
      },
      "outputs": [],
      "source": [
        "polls[date_cols] = polls[date_cols].apply(pd.to_datetime)\n",
        "polls[date_cols].head(2)"
      ]
    },
    {
      "cell_type": "code",
      "execution_count": null,
      "metadata": {
        "id": "ptjmPbJWcNwG"
      },
      "outputs": [],
      "source": [
        "polls['startdate'] = polls.startdate.dt.strftime(\"%m/%d/%Y\")\n",
        "polls['enddate'] = polls.enddate.dt.strftime(\"%m-%d-%y\")\n",
        "polls[date_cols].head(2)"
      ]
    },
    {
      "cell_type": "markdown",
      "metadata": {
        "id": "-BOl6NQXcNwH"
      },
      "source": [
        "## How to convert object columns to numeric data types"
      ]
    },
    {
      "cell_type": "code",
      "execution_count": null,
      "metadata": {
        "id": "k9llEChacNwH"
      },
      "outputs": [],
      "source": [
        "# pd.to_numeric(jobs.tot_emp)"
      ]
    },
    {
      "cell_type": "code",
      "execution_count": null,
      "metadata": {
        "id": "SporKbnjcNwH"
      },
      "outputs": [],
      "source": [
        "jobs.tot_emp.tail(3)"
      ]
    },
    {
      "cell_type": "code",
      "execution_count": null,
      "metadata": {
        "id": "6Ee5mpOjcNwI"
      },
      "outputs": [],
      "source": [
        "pd.to_numeric(jobs.tot_emp, errors='coerce').tail(3)"
      ]
    },
    {
      "cell_type": "markdown",
      "metadata": {
        "id": "Vn5TMXgAcNwJ"
      },
      "source": [
        "## How to work with the category data type"
      ]
    },
    {
      "cell_type": "code",
      "execution_count": null,
      "metadata": {
        "id": "Nln3z3q4cNwJ"
      },
      "outputs": [],
      "source": [
        "fires.state = fires.state.astype('category')"
      ]
    },
    {
      "cell_type": "code",
      "execution_count": null,
      "metadata": {
        "id": "QxsaEyHrcNwJ"
      },
      "outputs": [],
      "source": [
        "statCounts = pd.read_stata('../../data/GSS7218_R3.DTA', columns=['year','wrkstat'])"
      ]
    },
    {
      "cell_type": "code",
      "execution_count": null,
      "metadata": {
        "id": "vWa1kNWMcNwK"
      },
      "outputs": [],
      "source": [
        "filteredStatCounts = statCounts.query(\n",
        "    'wrkstat in [\"working fulltime\",\"working parttime\",\"retired\"]')\n",
        "filteredStatCounts.wrkstat.value_counts()"
      ]
    },
    {
      "cell_type": "code",
      "execution_count": null,
      "metadata": {
        "id": "dYgGyWE8cNwL"
      },
      "outputs": [],
      "source": [
        "# produces a warning that you'll learn about in chapter 7\n",
        "filteredStatCounts['wrkstat'] = \\\n",
        "    filteredStatCounts.wrkstat.cat.remove_unused_categories()\n",
        "filteredStatCounts.wrkstat.value_counts()"
      ]
    },
    {
      "cell_type": "markdown",
      "metadata": {
        "id": "tKpmaPBmcNwL"
      },
      "source": [
        "## How to replace invalid values and convert a column’s data type"
      ]
    },
    {
      "cell_type": "code",
      "execution_count": null,
      "metadata": {
        "id": "ConogGNfcNwM"
      },
      "outputs": [],
      "source": [
        "import numpy as np\n",
        "jobs.tot_emp.replace(to_replace=['*','**'], value=[np.nan,np.nan]) # ,inplace=True)"
      ]
    },
    {
      "cell_type": "code",
      "execution_count": null,
      "metadata": {
        "id": "BAA3_fiScNwM"
      },
      "outputs": [],
      "source": [
        "jobs.tot_emp.replace({'*':np.nan, '**':np.nan}, inplace=True)"
      ]
    },
    {
      "cell_type": "code",
      "execution_count": null,
      "metadata": {
        "id": "2xwDDE7ucNwN"
      },
      "outputs": [],
      "source": [
        "jobs.hourly_median = jobs.hourly_median.replace(to_replace='#', value = 100)"
      ]
    },
    {
      "cell_type": "code",
      "execution_count": null,
      "metadata": {
        "id": "uAWgm6ObcNwN"
      },
      "outputs": [],
      "source": [
        "jobs.hourly.replace(to_replace=np.nan, value=False, inplace=True)"
      ]
    },
    {
      "cell_type": "markdown",
      "metadata": {
        "id": "FYHxKb_ncNwO"
      },
      "source": [
        "## How to fix data type problems when you import the data"
      ]
    },
    {
      "cell_type": "code",
      "execution_count": null,
      "metadata": {
        "id": "AZbWJ_A1cNwO"
      },
      "outputs": [],
      "source": [
        "date_cols = ['forecastdate','startdate','enddate','createddate','timestamp']"
      ]
    },
    {
      "cell_type": "code",
      "execution_count": null,
      "metadata": {
        "id": "FBG8eYK6cNwO"
      },
      "outputs": [],
      "source": [
        "polls = pd.read_csv('../../data/president_polls_2016.csv')\n",
        "polls[date_cols].head(3)"
      ]
    },
    {
      "cell_type": "code",
      "execution_count": null,
      "metadata": {
        "id": "SqqYhafscNwP"
      },
      "outputs": [],
      "source": [
        "polls_new = pd.read_csv('../../data/president_polls_2016.csv', parse_dates=date_cols)\n",
        "polls_new[date_cols].head(3)"
      ]
    },
    {
      "cell_type": "markdown",
      "metadata": {
        "id": "6X1MNeXbcNwP"
      },
      "source": [
        "## How to find outliers"
      ]
    },
    {
      "cell_type": "code",
      "execution_count": null,
      "metadata": {
        "id": "vyfbTsQ6cNwQ"
      },
      "outputs": [],
      "source": [
        "mortality_data = pd.read_pickle('mortality_cleaned.pkl')"
      ]
    },
    {
      "cell_type": "code",
      "execution_count": null,
      "metadata": {
        "id": "ZZYDXxoHcNwQ"
      },
      "outputs": [],
      "source": [
        "mortality_group = mortality_data.query('AgeGroup == \"15-19 Years\"')\n",
        "mortality_group.head(3)"
      ]
    },
    {
      "cell_type": "code",
      "execution_count": null,
      "metadata": {
        "id": "FU2mBordcNwQ"
      },
      "outputs": [],
      "source": [
        "# save DataFrame for later use\n",
        "mortality_group.to_pickle('mortality_group.pkl')"
      ]
    },
    {
      "cell_type": "code",
      "execution_count": null,
      "metadata": {
        "id": "n--wnf11cNwR"
      },
      "outputs": [],
      "source": [
        "mortality_group.describe().T"
      ]
    },
    {
      "cell_type": "code",
      "execution_count": null,
      "metadata": {
        "id": "38K5K1g3cNwR"
      },
      "outputs": [],
      "source": [
        "mortality_group.plot(x='Year', y='DeathRate')"
      ]
    },
    {
      "cell_type": "code",
      "execution_count": null,
      "metadata": {
        "id": "N4WKqmiwcNwR"
      },
      "outputs": [],
      "source": [
        "mortality_group.query('DeathRate > 500')"
      ]
    },
    {
      "cell_type": "markdown",
      "metadata": {
        "id": "HG2NOVqFcNwS"
      },
      "source": [
        "## How to fix outliers"
      ]
    },
    {
      "cell_type": "code",
      "execution_count": null,
      "metadata": {
        "id": "vhmpLF1scNwS"
      },
      "outputs": [],
      "source": [
        "mortality_group = pd.read_pickle('mortality_group.pkl')\n",
        "\n",
        "mortality_group = mortality_group.query('DeathRate <= 500')"
      ]
    },
    {
      "cell_type": "code",
      "execution_count": null,
      "metadata": {
        "id": "x_3lPn5FcNwT"
      },
      "outputs": [],
      "source": [
        "mortality_group = pd.read_pickle('mortality_group.pkl')\n",
        "\n",
        "mortality_group.loc[mortality_group.DeathRate > 500, 'DeathRate'] = 450"
      ]
    },
    {
      "cell_type": "code",
      "execution_count": null,
      "metadata": {
        "id": "N0y-rAspcNwT"
      },
      "outputs": [],
      "source": [
        "mortality_group = pd.read_pickle('mortality_group.pkl')\n",
        "\n",
        "mortality_group.loc[mortality_group.DeathRate > 500, 'DeathRate'] \\\n",
        "    = mortality_group.DeathRate.mean()\n",
        "mortality_group.plot(x='Year', y='DeathRate')"
      ]
    },
    {
      "cell_type": "code",
      "execution_count": null,
      "metadata": {
        "id": "ElBMe5o_cNwU"
      },
      "outputs": [],
      "source": [
        "mortality_group = pd.read_pickle('mortality_group.pkl')\n",
        "\n",
        "mortality_group.loc[mortality_group.Year.isin([1917,1918,1919,1920]),\n",
        "                    'DeathRate'] = None\n",
        "mortality_group = mortality_group.interpolate()\n",
        "mortality_group.plot(x='Year', y='DeathRate')"
      ]
    },
    {
      "cell_type": "code",
      "execution_count": null,
      "metadata": {
        "id": "RnNargcScNwU"
      },
      "outputs": [],
      "source": []
    }
  ],
  "metadata": {
    "kernelspec": {
      "display_name": "Python 3",
      "language": "python",
      "name": "python3"
    },
    "language_info": {
      "codemirror_mode": {
        "name": "ipython",
        "version": 3
      },
      "file_extension": ".py",
      "mimetype": "text/x-python",
      "name": "python",
      "nbconvert_exporter": "python",
      "pygments_lexer": "ipython3",
      "version": "3.8.8"
    },
    "colab": {
      "provenance": []
    }
  },
  "nbformat": 4,
  "nbformat_minor": 0
}